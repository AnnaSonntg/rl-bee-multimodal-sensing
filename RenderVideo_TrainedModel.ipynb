{
  "nbformat": 4,
  "nbformat_minor": 0,
  "metadata": {
    "colab": {
      "provenance": []
    },
    "kernelspec": {
      "name": "python3",
      "display_name": "Python 3"
    },
    "language_info": {
      "name": "python"
    }
  },
  "cells": [
    {
      "cell_type": "code",
      "source": [
        "from google.colab import drive\n",
        "drive.mount('/content/drive')"
      ],
      "metadata": {
        "id": "0qibgEgHPPkw"
      },
      "execution_count": null,
      "outputs": []
    },
    {
      "cell_type": "code",
      "source": [
        "!pip install gymnasium\n",
        "!pip install stable_baselines3"
      ],
      "metadata": {
        "id": "rO8erBQWPREz"
      },
      "execution_count": null,
      "outputs": []
    },
    {
      "cell_type": "code",
      "source": [
        "!git clone https://github.com/alTeska/rl-bee-multimodal-sensing.git\n",
        "!mv rl-bee-multimodal-sensing/bee.py ./"
      ],
      "metadata": {
        "id": "I0oQbc3kPS4b"
      },
      "execution_count": null,
      "outputs": []
    },
    {
      "cell_type": "code",
      "source": [
        "import os\n",
        "import datetime\n",
        "\n",
        "import gymnasium as gym\n",
        "from bee import BeeWorld\n",
        "\n",
        "import numpy as np\n",
        "import matplotlib\n",
        "import matplotlib.pyplot as plt\n",
        "import matplotlib.animation as animation\n",
        "import torch\n",
        "import torch.nn as nn\n",
        "from IPython.display import HTML\n",
        "from stable_baselines3 import TD3\n",
        "from stable_baselines3.common.vec_env import DummyVecEnv\n",
        "\n",
        "from stable_baselines3.common.noise import NormalActionNoise, OrnsteinUhlenbeckActionNoise"
      ],
      "metadata": {
        "id": "XFSTGLMJPU5e"
      },
      "execution_count": null,
      "outputs": []
    },
    {
      "cell_type": "code",
      "source": [
        "\n",
        "lr = 0.01\n",
        "architecture = [100,100]\n",
        "\n",
        "name = 'LR'+'_'+str(lr).replace('.', 'p')+'_'+str(architecture).replace('[', '').replace(']', '').replace(', ', '_')\n",
        "name"
      ],
      "metadata": {
        "id": "SjCVW2btPYJk"
      },
      "execution_count": null,
      "outputs": []
    },
    {
      "cell_type": "code",
      "source": [
        "import os\n",
        "import datetime\n",
        "\n",
        "base_path =  \"drive/MyDrive/2023Neuromatch/\"\n",
        "models_dir = \"/models/{}\"\n",
        "\n",
        "time = datetime.datetime.now().strftime('%Y%m%d_%H%M%S')\n",
        "time ='20230719_145142'\n",
        "\n",
        "model_alg = 'TD3'+name+'_'+time\n",
        "\n",
        "models_dir = os.path.join(base_path,\"models\", model_alg)\n",
        "\n",
        "rply_bf_dir = os.path.join(base_path,\"replay_buffer\", model_alg)\n",
        "\n",
        "if not os.path.exists(models_dir):\n",
        "    os.makedirs(models_dir, exist_ok=True)\n",
        "logdir =os.path.join(base_path,\"logs\", model_alg)\n",
        "if not os.path.exists(logdir):\n",
        "    os.makedirs(logdir, exist_ok = True)\n",
        "\n",
        "if not os.path.exists(rply_bf_dir):\n",
        "    os.makedirs(rply_bf_dir, exist_ok = True)"
      ],
      "metadata": {
        "id": "-LwRo76YPeSz"
      },
      "execution_count": null,
      "outputs": []
    },
    {
      "cell_type": "code",
      "execution_count": null,
      "metadata": {
        "id": "4RyFl9t-OsHw"
      },
      "outputs": [],
      "source": [
        "base_path =  \"drive/MyDrive/2023Neuromatch/\"\n",
        "models_dir = \"/models/{}\"\n",
        "\n",
        "time = '20230719_094332'#'20230719_114053'\n",
        "\n",
        "model_alg = 'TD3'+name+'_'+time\n",
        "\n",
        "models_dir = os.path.join(base_path,\"models\", model_alg)\n",
        "\n",
        "rply_bf_dir = os.path.join(base_path,\"replay_buffer\", model_alg)\n",
        "\n",
        "logdir =os.path.join(base_path,\"logs\", model_alg)"
      ]
    },
    {
      "cell_type": "code",
      "source": [
        "from tqdm.notebook import trange, tqdm\n",
        "step = str(370000)\n",
        "loaded_model = TD3.load(os.path.join(models_dir, step))\n",
        "loaded_model.set_env(DummyVecEnv([lambda: gym.make(\"BeeWorld\", render_mode=\"rgb_array\")]))\n",
        "vec_env = loaded_model.get_env()\n",
        "obs = vec_env.reset()\n",
        "\n",
        "frames = []\n",
        "\n",
        "#while True:\n",
        "for i in trange(1000):\n",
        "    action, _states = loaded_model.predict(obs)\n",
        "    obs, rewards, dones, info = vec_env.step(action)\n",
        "    frames.append(env.render())"
      ],
      "metadata": {
        "id": "hZlrnbNCPLmr"
      },
      "execution_count": null,
      "outputs": []
    },
    {
      "cell_type": "code",
      "source": [
        "display_video(frames, framerate=50)"
      ],
      "metadata": {
        "id": "rA5aqvdNPNLQ"
      },
      "execution_count": null,
      "outputs": []
    }
  ]
}